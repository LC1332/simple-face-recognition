{
 "cells": [
  {
   "cell_type": "code",
   "outputs": [],
   "source": [
    "# 固定numpy torch 生成的随机数\n",
    "import numpy as np\n",
    "import torch\n",
    "from sklearn import datasets\n",
    "\n",
    "seed = 129\n",
    "\n",
    "np.random.seed(seed)\n",
    "torch.manual_seed(seed)\n",
    "torch.cuda.manual_seed_all(seed)"
   ],
   "metadata": {
    "collapsed": false,
    "ExecuteTime": {
     "end_time": "2024-04-07T11:24:13.052409Z",
     "start_time": "2024-04-07T11:24:13.031838Z"
    }
   },
   "id": "ecb72af9382ae953",
   "execution_count": 1591
  },
  {
   "cell_type": "code",
   "outputs": [],
   "source": [
    "# 生成一个简单的数据集\n",
    "N = 4000\n",
    "BS = 128\n",
    "\n",
    "\n",
    "def makeToyData(n=10000):\n",
    "    x, t = datasets.make_swiss_roll(n, noise=5., random_state=6)\n",
    "    # 标准化x\n",
    "    l = torch.nn.functional.normalize(torch.tensor(x, dtype=torch.float32), dim=1)\n",
    "    A = torch.rand(3, 512)\n",
    "    toyA = l @ A\n",
    "\n",
    "    # 生成OneHot label [n, 7] \n",
    "    toyLabel = torch.randint(0, 7, (n,))\n",
    "    toyLabelOnehot = torch.nn.functional.one_hot(toyLabel, num_classes=7)\n",
    "    B = torch.rand(7, 512)\n",
    "    toyLabelOnehot = toyLabelOnehot.to(torch.float32) @ B\n",
    "\n",
    "    # 生成e\n",
    "    toyE = torch.rand(n, 512)\n",
    "\n",
    "    # 生成最终数据\n",
    "    f = toyA + 0.1 * toyLabelOnehot + 0.01 * toyE\n",
    "\n",
    "    return f, toyLabel"
   ],
   "metadata": {
    "collapsed": false,
    "ExecuteTime": {
     "end_time": "2024-04-07T11:24:13.058140Z",
     "start_time": "2024-04-07T11:24:13.053630Z"
    }
   },
   "id": "78657433b3e27bd0",
   "execution_count": 1592
  },
  {
   "cell_type": "code",
   "outputs": [],
   "source": [
    "toyData, toyLabel = makeToyData(N + 1000)\n",
    "\n",
    "# 分离训练集和测试集\n",
    "testData, testLabel = toyData[N:], toyLabel[N:]\n",
    "toyData, toyLabel = toyData[:N], toyLabel[:N]"
   ],
   "metadata": {
    "collapsed": false,
    "ExecuteTime": {
     "end_time": "2024-04-07T11:24:13.099961Z",
     "start_time": "2024-04-07T11:24:13.059079Z"
    }
   },
   "id": "b702552b2a2adba8",
   "execution_count": 1593
  },
  {
   "cell_type": "code",
   "outputs": [],
   "source": [
    "from torch import nn\n",
    "\n",
    "\n",
    "class SimpleClassifier(torch.nn.Module):\n",
    "    def __init__(self):\n",
    "        super(SimpleClassifier, self).__init__()\n",
    "        self.out = nn.Sequential(\n",
    "\n",
    "            nn.TransformerEncoder(\n",
    "                nn.TransformerEncoderLayer(\n",
    "                    d_model=512, nhead=8, dim_feedforward=1024, batch_first=True\n",
    "                ),\n",
    "                num_layers=6,\n",
    "            ),\n",
    "            nn.ReLU(),\n",
    "            nn.Linear(512, 7),\n",
    "            nn.Softmax(dim=-1),\n",
    "\n",
    "        )\n",
    "\n",
    "    def forward(self, x):\n",
    "        x = self.out(x)\n",
    "\n",
    "        return x\n",
    "\n",
    "\n",
    "class AdversarialAutoencoder(torch.nn.Module):\n",
    "    def __init__(self):\n",
    "        super(AdversarialAutoencoder, self).__init__()\n",
    "\n",
    "        self.r = nn.Sequential(\n",
    "\n",
    "            nn.TransformerEncoder(\n",
    "                nn.TransformerEncoderLayer(\n",
    "                    d_model=512, nhead=8, dim_feedforward=1024, batch_first=True\n",
    "                ),\n",
    "                num_layers=6,\n",
    "            ),\n",
    "            nn.ReLU(),\n",
    "            nn.Linear(512, 512),\n",
    "        )\n",
    "\n",
    "    def forward(self, f):\n",
    "        r = self.r(f)\n",
    "        return r"
   ],
   "metadata": {
    "collapsed": false,
    "ExecuteTime": {
     "end_time": "2024-04-07T11:24:13.107733Z",
     "start_time": "2024-04-07T11:24:13.102188Z"
    }
   },
   "id": "f1ea8a34d29bb78f",
   "execution_count": 1594
  },
  {
   "cell_type": "code",
   "outputs": [],
   "source": [
    "classifierModel = SimpleClassifier()"
   ],
   "metadata": {
    "collapsed": false,
    "ExecuteTime": {
     "end_time": "2024-04-07T11:24:13.146666Z",
     "start_time": "2024-04-07T11:24:13.109138Z"
    }
   },
   "id": "b4f8b7fd51ae4f6e",
   "execution_count": 1595
  },
  {
   "cell_type": "code",
   "outputs": [],
   "source": [
    "import torch.optim as optim\n",
    "import torch.nn.functional as F\n",
    "\n",
    "optimizer = optim.Adam(classifierModel.parameters(), lr=0.0001)"
   ],
   "metadata": {
    "collapsed": false,
    "ExecuteTime": {
     "end_time": "2024-04-07T11:24:13.164172Z",
     "start_time": "2024-04-07T11:24:13.147336Z"
    }
   },
   "id": "4f5614dfc4edb625",
   "execution_count": 1596
  },
  {
   "cell_type": "code",
   "outputs": [
    {
     "name": "stdout",
     "output_type": "stream",
     "text": [
      "epoch 0 loss 1.9396\n",
      "epoch 1 loss 1.9545\n",
      "epoch 1 loss 1.8878\n",
      "epoch 2 loss 1.4678\n",
      "epoch 3 loss 1.2435\n",
      "epoch 3 loss 1.1767\n",
      "epoch 4 loss 1.1758\n",
      "epoch 4 loss 1.1712\n",
      "epoch 5 loss 1.1684\n",
      "epoch 6 loss 1.1675\n",
      "epoch 6 loss 1.1673\n",
      "epoch 7 loss 1.1670\n",
      "epoch 8 loss 1.1668\n",
      "epoch 8 loss 1.1667\n",
      "epoch 9 loss 1.1666\n",
      "epoch 9 loss 1.1667\n",
      "Accuracy: 30.1000%\n"
     ]
    }
   ],
   "source": [
    "step = 0\n",
    "for epoch in range(10):\n",
    "    for i in range(0, N, BS):\n",
    "        optimizer.zero_grad()\n",
    "\n",
    "        end = min(i + BS, N)\n",
    "\n",
    "        output = classifierModel(toyData[i:end])\n",
    "        classifierLoss = F.cross_entropy(output, toyLabel[i:end])\n",
    "        classifierLoss.backward()\n",
    "        optimizer.step()\n",
    "\n",
    "        step += 1\n",
    "        if step % 20 == 0:\n",
    "            print(f\"epoch {epoch} loss {classifierLoss.item():.4f}\")\n",
    "\n",
    "# bs 为1的测试\n",
    "_correct, _sum = 0, 0\n",
    "# 使用testData进行测试\n",
    "test_length = len(testData)\n",
    "for i in range(test_length):\n",
    "    output = classifierModel(testData[i:i + 1])\n",
    "    # print(output.shape, testLabel[i].shape)\n",
    "    _, predicted = torch.max(output, dim=1)\n",
    "    if predicted == testLabel[i:i + 1]:\n",
    "        _correct += 1\n",
    "    _sum += 1\n",
    "\n",
    "print(f\"Accuracy: {_correct / _sum * 100:.4f}%\")"
   ],
   "metadata": {
    "collapsed": false,
    "ExecuteTime": {
     "end_time": "2024-04-07T11:24:34.188645Z",
     "start_time": "2024-04-07T11:24:13.165134Z"
    }
   },
   "id": "df308dc6af31cd83",
   "execution_count": 1597
  },
  {
   "cell_type": "code",
   "outputs": [],
   "source": [
    "import pandas\n",
    "\n",
    "# 关于表情耦合特征\n",
    "clip = pandas.read_parquet(\"RAF_clip_openai.parquet\", engine=\"pyarrow\")\n",
    "\n",
    "# image_name\tlabel\tfeature\n",
    "# 处理label=label-1\n",
    "clip[\"label\"] = clip[\"label\"] - 1\n",
    "# 采样70%的数据作为训练集\n",
    "RAF_clip_train = clip.sample(frac=0.7)\n",
    "# 剩下的数据作为测试集\n",
    "RAF_clip_test = clip.drop(RAF_clip_train.index)"
   ],
   "metadata": {
    "collapsed": false,
    "ExecuteTime": {
     "end_time": "2024-04-07T11:24:34.277946Z",
     "start_time": "2024-04-07T11:24:34.189961Z"
    }
   },
   "id": "bf40e6e160334097",
   "execution_count": 1598
  },
  {
   "cell_type": "code",
   "outputs": [],
   "source": [
    "import numpy as np\n",
    "import torch\n",
    "\n",
    "\n",
    "class DecoupleDataSet(torch.utils.data.Dataset):\n",
    "    def __init__(self, clip: pandas.DataFrame):\n",
    "        self.feature = clip[\"feature\"].tolist()\n",
    "        self.label = clip[\"label\"].tolist()\n",
    "\n",
    "    def __len__(self):\n",
    "        return len(self.feature)\n",
    "\n",
    "    def __getitem__(self, idx):\n",
    "        # 模型输入\n",
    "        # x, identity_label=None, expression_label=None\n",
    "        return self.feature[idx], self.label[idx]\n",
    "\n",
    "    def collate_fn(self, batch: list[tuple[np.ndarray, int, np.ndarray, int]]):\n",
    "        # 从batch中提取出数据和标签\n",
    "        feature, label = zip(*batch)\n",
    "        # 转换为tensor\n",
    "        feature = torch.tensor(feature, dtype=torch.float32)\n",
    "        # 标准化\n",
    "        feature = torch.nn.functional.normalize(feature, dim=1)\n",
    "        label = torch.tensor(label, dtype=torch.long)\n",
    "\n",
    "        # lda\n",
    "\n",
    "        return feature, label\n",
    "\n",
    "\n",
    "class Dataloader(torch.utils.data.DataLoader):\n",
    "    def __init__(self, dataset: DecoupleDataSet, batch_size=256, **kwargs):\n",
    "        super(Dataloader, self).__init__(\n",
    "            dataset, batch_size=batch_size, collate_fn=dataset.collate_fn, **kwargs\n",
    "        )"
   ],
   "metadata": {
    "collapsed": false,
    "ExecuteTime": {
     "end_time": "2024-04-07T11:24:34.282270Z",
     "start_time": "2024-04-07T11:24:34.278714Z"
    }
   },
   "id": "ced2d77fa4d4d8d6",
   "execution_count": 1599
  },
  {
   "cell_type": "code",
   "outputs": [],
   "source": [
    "train_dataset = DecoupleDataSet(RAF_clip_train)\n",
    "train_dataloader = Dataloader(train_dataset, batch_size=256, shuffle=True)\n",
    "\n",
    "test_dataset = DecoupleDataSet(RAF_clip_test)\n",
    "test_dataloader = Dataloader(test_dataset, batch_size=256)"
   ],
   "metadata": {
    "collapsed": false,
    "ExecuteTime": {
     "end_time": "2024-04-07T11:24:34.287408Z",
     "start_time": "2024-04-07T11:24:34.284375Z"
    }
   },
   "id": "8125a67b64d0a21f",
   "execution_count": 1600
  },
  {
   "cell_type": "code",
   "outputs": [
    {
     "name": "stdout",
     "output_type": "stream",
     "text": [
      "epoch 0 loss 1.8246\n",
      "epoch 1 loss 1.7767\n",
      "epoch 1 loss 1.6794\n",
      "epoch 2 loss 1.5597\n",
      "epoch 2 loss 1.5469\n",
      "epoch 3 loss 1.4638\n",
      "epoch 4 loss 1.4018\n",
      "epoch 4 loss 1.4140\n",
      "epoch 5 loss 1.3842\n",
      "epoch 5 loss 1.3613\n",
      "epoch 6 loss 1.3276\n",
      "epoch 7 loss 1.3229\n",
      "epoch 7 loss 1.3173\n",
      "epoch 8 loss 1.3364\n",
      "epoch 8 loss 1.3346\n",
      "epoch 9 loss 1.2953\n",
      "epoch 9 loss 1.3213\n",
      "Accuracy: 67.0742%\n"
     ]
    }
   ],
   "source": [
    "classifierModel = SimpleClassifier()\n",
    "\n",
    "optimizer = optim.Adam(classifierModel.parameters(), lr=0.0001)\n",
    "\n",
    "step = 0\n",
    "for epoch in range(10):\n",
    "    for i, (feature, label) in enumerate(train_dataloader):\n",
    "        optimizer.zero_grad()\n",
    "        output = classifierModel(feature)\n",
    "        classifierLoss = F.cross_entropy(output, label)\n",
    "        classifierLoss.backward()\n",
    "        optimizer.step()\n",
    "\n",
    "        step += 1\n",
    "        if step % 20 == 0:\n",
    "            print(f\"epoch {epoch} loss {classifierLoss.item():.4f}\")\n",
    "\n",
    "# bs 为1的测试\n",
    "_correct, _sum = 0, 0\n",
    "# 使用testData进行测试\n",
    "for i, (feature, label) in enumerate(test_dataloader):\n",
    "    output = classifierModel(feature)\n",
    "    # print(output.shape, testLabel[i].shape)\n",
    "    _, predicted = torch.max(output, dim=1)\n",
    "    _correct += (predicted == label).sum().item()\n",
    "    _sum += len(label)\n",
    "\n",
    "print(f\"Accuracy: {_correct / _sum * 100:.4f}%\")"
   ],
   "metadata": {
    "collapsed": false,
    "ExecuteTime": {
     "end_time": "2024-04-07T11:25:11.922116Z",
     "start_time": "2024-04-07T11:24:34.288192Z"
    }
   },
   "id": "7e93ee7127b3aac4",
   "execution_count": 1601
  },
  {
   "cell_type": "code",
   "outputs": [],
   "source": [
    "# Adversarial Autoencoder\n",
    "aaeModel = AdversarialAutoencoder()\n",
    "classifierModel = SimpleClassifier()"
   ],
   "metadata": {
    "collapsed": false,
    "ExecuteTime": {
     "end_time": "2024-04-07T11:25:11.980705Z",
     "start_time": "2024-04-07T11:25:11.924131Z"
    }
   },
   "id": "7b11bbf5a885fbc3",
   "execution_count": 1602
  },
  {
   "cell_type": "code",
   "outputs": [],
   "source": [
    "# 分别优化两个模型\n",
    "optimizer = optim.Adam(aaeModel.parameters(), lr=0.00001)\n",
    "classifierOptimizer = optim.Adam(classifierModel.parameters(), lr=0.0001)"
   ],
   "metadata": {
    "collapsed": false,
    "ExecuteTime": {
     "end_time": "2024-04-07T11:25:11.995757Z",
     "start_time": "2024-04-07T11:25:11.981663Z"
    }
   },
   "id": "9704708995b8946d",
   "execution_count": 1603
  },
  {
   "cell_type": "code",
   "outputs": [
    {
     "name": "stdout",
     "output_type": "stream",
     "text": [
      "epoch 0 classifier loss 1.8173 aae loss 0.6920 reconstruction loss 0.0810 adversarial loss 1.3030\n",
      "epoch 1 classifier loss 1.8366 aae loss 0.6748 reconstruction loss 0.0429 adversarial loss 1.3067\n",
      "epoch 1 classifier loss 1.7941 aae loss 0.6744 reconstruction loss 0.0460 adversarial loss 1.3028\n",
      "epoch 2 classifier loss 1.7961 aae loss 0.6605 reconstruction loss 0.0609 adversarial loss 1.2601\n",
      "epoch 2 classifier loss 1.7000 aae loss 0.6311 reconstruction loss 0.0723 adversarial loss 1.1899\n",
      "epoch 3 classifier loss 1.6682 aae loss 0.6596 reconstruction loss 0.0727 adversarial loss 1.2465\n",
      "epoch 4 classifier loss 1.6630 aae loss 0.6467 reconstruction loss 0.0827 adversarial loss 1.2106\n",
      "epoch 4 classifier loss 1.6422 aae loss 0.6445 reconstruction loss 0.0792 adversarial loss 1.2098\n",
      "epoch 5 classifier loss 1.5986 aae loss 0.5958 reconstruction loss 0.0572 adversarial loss 1.1344\n",
      "epoch 5 classifier loss 1.5952 aae loss 0.6516 reconstruction loss 0.0570 adversarial loss 1.2462\n",
      "epoch 6 classifier loss 1.6338 aae loss 0.6487 reconstruction loss 0.0590 adversarial loss 1.2385\n",
      "epoch 7 classifier loss 1.5677 aae loss 0.6455 reconstruction loss 0.0547 adversarial loss 1.2363\n",
      "epoch 7 classifier loss 1.5636 aae loss 0.6596 reconstruction loss 0.0531 adversarial loss 1.2662\n",
      "epoch 8 classifier loss 1.5697 aae loss 0.6561 reconstruction loss 0.0456 adversarial loss 1.2667\n",
      "epoch 8 classifier loss 1.5484 aae loss 0.6546 reconstruction loss 0.0437 adversarial loss 1.2654\n",
      "epoch 9 classifier loss 1.5652 aae loss 0.6664 reconstruction loss 0.0405 adversarial loss 1.2924\n",
      "epoch 9 classifier loss 1.4934 aae loss 0.6509 reconstruction loss 0.0400 adversarial loss 1.2618\n",
      "Accuracy: 51.9696%\n"
     ]
    }
   ],
   "source": [
    "step = 0\n",
    "# 进行对抗训练\n",
    "for epoch in range(10):\n",
    "    for i, (feature, label) in enumerate(train_dataloader):\n",
    "        optimizer.zero_grad()\n",
    "        classifierOptimizer.zero_grad()\n",
    "\n",
    "        r = aaeModel(feature)\n",
    "        c = classifierModel(feature + r)\n",
    "        classifierLoss = F.cross_entropy(c, label)\n",
    "        classifierLoss.backward()\n",
    "        classifierOptimizer.step()\n",
    "\n",
    "        # 对抗训练\n",
    "        r = aaeModel(feature)\n",
    "        c = classifierModel(feature + r)\n",
    "\n",
    "        reconstruction_loss = F.mse_loss(feature + r, feature)\n",
    "\n",
    "        # 计算判断对的概率,变成二分类问题\n",
    "        adversarial_c_max_index = torch.argmax(c, dim=1)\n",
    "\n",
    "        adversarial_label = (adversarial_c_max_index == label).to(torch.long)\n",
    "\n",
    "        adversarial_c = torch.zeros(c.shape[0], 2)\n",
    "        adversarial_c[:, 0] = c[torch.arange(c.shape[0]), label]\n",
    "        adversarial_c[:, 1] = 1 - adversarial_c[:, 0]\n",
    "\n",
    "        adversarial_loss = F.cross_entropy(adversarial_c, adversarial_label)\n",
    "\n",
    "        aaeLoss = (reconstruction_loss + adversarial_loss) / 2\n",
    "        # \n",
    "        # # 查看模型梯度\n",
    "        # for name, param in aaeModel.named_parameters():\n",
    "        #     print(name, param.grad)\n",
    "        # for name, param in classifierModel.named_parameters():\n",
    "        #     print(name, param.grad)\n",
    "\n",
    "        aaeLoss.backward()\n",
    "        optimizer.step()\n",
    "\n",
    "        step += 1\n",
    "        if step % 20 == 0:\n",
    "            print(\n",
    "                f\"epoch {epoch} classifier loss {classifierLoss.item():.4f} aae loss {aaeLoss.item():.4f} \"\n",
    "                f\"reconstruction loss {reconstruction_loss.item():.4f} adversarial loss {adversarial_loss.item():.4f}\"\n",
    "            )\n",
    "\n",
    "# bs 为1的测试\n",
    "_correct, _sum = 0, 0\n",
    "# 使用testData进行测试\n",
    "for i, (feature, label) in enumerate(test_dataloader):\n",
    "    r = aaeModel(feature)\n",
    "    output = classifierModel(feature)\n",
    "    # print(output.shape, testLabel[i].shape)\n",
    "    _, predicted = torch.max(output, dim=1)\n",
    "    _correct += (predicted == label).sum().item()\n",
    "    _sum += len(label)\n",
    "\n",
    "print(f\"Accuracy: {_correct / _sum * 100:.4f}%\")"
   ],
   "metadata": {
    "collapsed": false,
    "ExecuteTime": {
     "end_time": "2024-04-07T11:27:16.660600Z",
     "start_time": "2024-04-07T11:25:11.997212Z"
    }
   },
   "id": "bbc89f69eb5d878",
   "execution_count": 1604
  },
  {
   "cell_type": "code",
   "outputs": [],
   "source": [],
   "metadata": {
    "collapsed": false,
    "ExecuteTime": {
     "end_time": "2024-04-07T11:27:16.663808Z",
     "start_time": "2024-04-07T11:27:16.662044Z"
    }
   },
   "id": "b5a6669b9e1b7092",
   "execution_count": 1604
  }
 ],
 "metadata": {
  "kernelspec": {
   "display_name": "Python 3",
   "language": "python",
   "name": "python3"
  },
  "language_info": {
   "codemirror_mode": {
    "name": "ipython",
    "version": 2
   },
   "file_extension": ".py",
   "mimetype": "text/x-python",
   "name": "python",
   "nbconvert_exporter": "python",
   "pygments_lexer": "ipython2",
   "version": "2.7.6"
  }
 },
 "nbformat": 4,
 "nbformat_minor": 5
}
